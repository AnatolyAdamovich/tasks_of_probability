{
 "cells": [
  {
   "cell_type": "markdown",
   "id": "17166cdc",
   "metadata": {},
   "source": [
    "# Постановка задачи\n",
    "Есть случайная величина, подчиняющаяся стандартному нормальному закону распределения $\\xi \\sim N(0, 1)$\n",
    "1. Необходимо получить k реализаций этой случайной величины  \n",
    "2. Построить гистограмму полученной выборки\n",
    "3. Получить эмпирические характеристики данной выборки\n",
    "4. С помощью критерия $\\chi^{2}$ проверить гипотезу о нормальном распределении"
   ]
  },
  {
   "cell_type": "code",
   "execution_count": 173,
   "id": "c2ab238c",
   "metadata": {},
   "outputs": [],
   "source": [
    "import numpy as np\n",
    "import pandas as pd\n",
    "import seaborn as sns\n",
    "import matplotlib.pyplot as plt\n",
    "import scipy.stats as sps"
   ]
  },
  {
   "cell_type": "markdown",
   "id": "9fd3c937",
   "metadata": {},
   "source": [
    "### Получение k реализаций случайной величины, распределенной по стандартному нормальному закону"
   ]
  },
  {
   "cell_type": "code",
   "execution_count": 174,
   "id": "73a9f7f6",
   "metadata": {},
   "outputs": [
    {
     "name": "stdout",
     "output_type": "stream",
     "text": [
      "Количество реализаций случайной величины: 1000\n"
     ]
    },
    {
     "data": {
      "text/plain": [
       "x1      -0.146508\n",
       "x2      -0.121527\n",
       "x3       1.152468\n",
       "x4      -0.533072\n",
       "x5       0.335260\n",
       "           ...   \n",
       "x996    -0.769335\n",
       "x997     1.147855\n",
       "x998     0.859388\n",
       "x999    -0.495622\n",
       "x1000   -1.066733\n",
       "Name: Разыгранная случайная величина с законом N(0, 1), Length: 1000, dtype: float64"
      ]
     },
     "execution_count": 174,
     "metadata": {},
     "output_type": "execute_result"
    }
   ],
   "source": [
    "k = int(input('Количество реализаций случайной величины: '))\n",
    "\n",
    "played_selection = []\n",
    "for i in range(k):\n",
    "    number =  sum(np.random.uniform(0, 1, 12)) - 6    # сумма 12 случайных чисел (распр. по R[0,1]) минус мат.ожидание\n",
    "    played_selection.append(number)   # добавляем полученное число в выборку\n",
    "        \n",
    "result = pd.Series(played_selection, index = [f'x{i}' for i in range(1, k+1)],\n",
    "                   name = 'Разыгранная случайная величина с законом N(0, 1)')\n",
    "result"
   ]
  },
  {
   "cell_type": "markdown",
   "id": "53768848",
   "metadata": {},
   "source": [
    "### Разбиение интервала, построение группировочного ряда"
   ]
  },
  {
   "cell_type": "code",
   "execution_count": 175,
   "id": "07f9f98d",
   "metadata": {},
   "outputs": [
    {
     "name": "stdout",
     "output_type": "stream",
     "text": [
      "x*1      -2.853522\n",
      "x*2      -2.664934\n",
      "x*3      -2.560797\n",
      "x*4      -2.387216\n",
      "x*5      -2.351356\n",
      "            ...   \n",
      "x*996     2.574139\n",
      "x*997     2.660093\n",
      "x*998     2.899172\n",
      "x*999     2.924161\n",
      "x*1000    3.117318\n",
      "Name: Вариационный ряд, Length: 1000, dtype: float64 \n",
      " -------------------------------------------------------\n",
      "Оптимальное число интервалов = 11\n"
     ]
    }
   ],
   "source": [
    "variable = result.copy()\n",
    "# cтроим вариационный ряд\n",
    "variance_var = pd.Series(sorted(variable), index = [f'x*{i}' for i in range(1, k+1)], name = 'Вариационный ряд')    \n",
    "print(variance_var, '\\n', '-'*55)\n",
    "\n",
    "# формула Стерджесса для определения числа интервалов\n",
    "m_opt = round(1 + 3.322 * np.log10(k)) \n",
    "print('Оптимальное число интервалов = {}'.format(m_opt))\n",
    "intervals = np.linspace(variance_var[0], variance_var[k-1], m_opt+1) # интервалы"
   ]
  },
  {
   "cell_type": "markdown",
   "id": "4c73af04",
   "metadata": {},
   "source": [
    "Подсчитаем частоты для каждого интервала"
   ]
  },
  {
   "cell_type": "code",
   "execution_count": 176,
   "id": "d1f92007",
   "metadata": {},
   "outputs": [
    {
     "name": "stdout",
     "output_type": "stream",
     "text": [
      "(-2.855, -2.311]      5\n",
      "(-2.311, -1.768]     33\n",
      "(-1.768, -1.225]     80\n",
      "(-1.225, -0.682]    130\n",
      "(-0.682, -0.14]     181\n",
      "(-0.14, 0.403]      224\n",
      "(0.403, 0.946]      178\n",
      "(0.946, 1.489]      107\n",
      "(1.489, 2.032]       44\n",
      "(2.032, 2.575]       14\n",
      "(2.575, 3.117]        4\n",
      "Name: Интервалы, dtype: int64\n",
      "-------------------------------------------------------\n",
      "        Вариационный ряд         Интервалы\n",
      "x*1            -2.853522  (-2.855, -2.311]\n",
      "x*2            -2.664934  (-2.855, -2.311]\n",
      "x*3            -2.560797  (-2.855, -2.311]\n",
      "x*4            -2.387216  (-2.855, -2.311]\n",
      "x*5            -2.351356  (-2.855, -2.311]\n",
      "...                  ...               ...\n",
      "x*996           2.574139    (2.032, 2.575]\n",
      "x*997           2.660093    (2.575, 3.117]\n",
      "x*998           2.899172    (2.575, 3.117]\n",
      "x*999           2.924161    (2.575, 3.117]\n",
      "x*1000          3.117318    (2.575, 3.117]\n",
      "\n",
      "[1000 rows x 2 columns]\n"
     ]
    }
   ],
   "source": [
    "interval_groups = pd.cut(variance_var, bins = intervals, include_lowest=True) # разбиваем выборку по интервальным группам\n",
    "interval_groups.name = 'Интервалы' \n",
    "df = pd.concat([variance_var, interval_groups], axis=1)\n",
    "#df2 = df.copy()\n",
    "#df2['Интервалы'] = np.array(intervals[:m_opt] + np.diff(intervals)/2)\n",
    "interval_groups = interval_groups.value_counts(sort=False) # подсчитываем количество элементов в каждом интервале \n",
    "print(interval_groups, '-'*55, df, sep='\\n')"
   ]
  },
  {
   "cell_type": "markdown",
   "id": "f9a6b063",
   "metadata": {},
   "source": [
    "### Гистограмма разыгранной выборки"
   ]
  },
  {
   "cell_type": "code",
   "execution_count": 177,
   "id": "8bc9f60b",
   "metadata": {},
   "outputs": [
    {
     "data": {
      "image/png": "[encoded data removed]",
      "text/plain": [
       "<Figure size 360x360 with 1 Axes>"
      ]
     },
     "metadata": {
      "needs_background": "light"
     },
     "output_type": "display_data"
    }
   ],
   "source": [
    "# Построение гистограммы для эмпирического распределения\n",
    "histogramm = sns.catplot(x=\"Интервалы\", kind=\"count\", palette=\"ch:.25\", data=df)"
   ]
  },
  {
   "cell_type": "markdown",
   "id": "1efae531",
   "metadata": {},
   "source": [
    "### Экспресс-анализ (дескриптивная статистика)"
   ]
  },
  {
   "cell_type": "code",
   "execution_count": 185,
   "id": "db67dcda",
   "metadata": {},
   "outputs": [
    {
     "name": "stdout",
     "output_type": "stream",
     "text": [
      "-2.5830      5\n",
      "-2.0395     33\n",
      "-1.4965     80\n",
      "-0.9535    130\n",
      "-0.4110    181\n",
      " 0.1315    224\n",
      " 0.6745    178\n",
      " 1.2175    107\n",
      " 1.7605     44\n",
      " 2.3035     14\n",
      " 2.8460      4\n",
      "Name: Интервальное разбиение выборки, dtype: int64\n"
     ]
    },
    {
     "data": {
      "text/plain": [
       "Выборочное среднее       0.002600\n",
       "Выборочная дисперсия     0.985063\n",
       "Выборочное отклонение    0.992503\n",
       "Выборочный эксцесс      -0.310708\n",
       "Выборочная ассиметрия   -0.015672\n",
       "Мода                     0.131500\n",
       "Медиана                  0.131500\n",
       "Name: Описательные статистики, dtype: float64"
      ]
     },
     "execution_count": 185,
     "metadata": {},
     "output_type": "execute_result"
    }
   ],
   "source": [
    "# найдем середины интервалов\n",
    "middle_of_intrvls = []\n",
    "temp_intervals = np.unique(df['Интервалы'].values) \n",
    "for ti in temp_intervals:\n",
    "    middle_of_intrvls.append(ti.mid)\n",
    "emperic_distribution = pd.Series(interval_groups.values, index=middle_of_intrvls,\n",
    "                             name = 'Интервальное разбиение выборки')\n",
    "print(emperic_distribution)\n",
    "\n",
    "# описательные характеристики\n",
    "emperic_mean = sum(interval_groups.values * middle_of_intrvls) / k \n",
    "emperic_moda = (emperic_distribution.index[emperic_frequency==max(emperic_distribution)])[0] # середина интервала с наиб. частотой\n",
    "emperic_median = middle_of_intrvls[int(np.where(temp_intervals==df['Интервалы'][k//2])[0])] \n",
    "emperic_disp = sum(emperic_distribution * (middle_of_intrvls - emperic_mean)**2) / k\n",
    "emperic_deviation = emperic_disp**(1/2)\n",
    "emperic_excess = sum(emperic_distribution * (middle_of_intrvls - emperic_mean)**4) / (k * emperic_diviation**4) - 3\n",
    "emperic_assim = sum(emperic_distribution * (middle_of_intrvls - emperic_mean)**3) / (k * emperic_diviation**3)\n",
    "\n",
    "# поместим характеристики в отдельную структуру\n",
    "emperic_description = pd.Series([emperic_mean, emperic_disp, emperic_deviation, emperic_excess,\n",
    "                                emperic_assim, emperic_moda, emperic_median], \n",
    "                               index=['Выборочное среднее', 'Выборочная дисперсия', 'Выборочное отклонение',\n",
    "                                     'Выборочный эксцесс', 'Выборочная ассиметрия', 'Мода', 'Медиана'],\n",
    "                              name='Описательные статистики')\n",
    "emperic_description"
   ]
  },
  {
   "cell_type": "markdown",
   "id": "cb30b542",
   "metadata": {},
   "source": [
    "### Теоретическое распределение\n",
    "(найдем теоретические частоты для середин интервалов с помощью формулы $n_{i}=\\frac{k*f(t_i)*h}{\\sigma_{emperic}}$, где $h$ - расстояние между серединами, $k$ - общий объем выборки, $\\sigma_{emperic}$ - эмпирическое отклонение,  $f(\\hat{t_i})$ - значение плотности стандартно распределенной случайной величины в  нормированной середине i-го интервала: $\\hat{t_i}=\\frac{t_i-a_{emperic}}{\\sigma_{emperic}}$)"
   ]
  },
  {
   "cell_type": "code",
   "execution_count": null,
   "id": "abbe231d",
   "metadata": {},
   "outputs": [],
   "source": [
    "normal_frequency = sps.norm().pdf((middle_of_intrvls-emperic_mean)/emperic_deviation)\n",
    "normal_frequency *= k*(middle_of_intrvls[1]-middle_of_intrvls[0])/emperic_deviation\n",
    "sum(normal_frequency)\n",
    "normal_distribution = pd.Series(normal_frequency, index = middle_of_intrvls,\n",
    "                                name = 'Теоретическое распределение стандартной нормальной величины')\n",
    "normal_distribution"
   ]
  },
  {
   "cell_type": "markdown",
   "id": "931a9cfd",
   "metadata": {},
   "source": [
    "### Проверка статистической гипотезы\n",
    "Есть случайная величина $\\psi$, представленная выборкой, полученной на 1 этапе. Требуется проверить гипотезу о том, что данная величина подчинена стандартному нормальному закону распределения. Для проверки гипотезы будет использоваться критерий Пирсона.  \n",
    "$H_{0}:$ $\\psi$ подчинена стандартному нормальному закону распределения $N(0, 1)$  \n",
    "$H_{1}:$ $\\psi$ не подчинена стандартному нормальному закону распределения $N(0, 1)$"
   ]
  },
  {
   "cell_type": "code",
   "execution_count": null,
   "id": "470257b9",
   "metadata": {},
   "outputs": [],
   "source": [
    "alpha = float(input('Уровень значимости: '))\n",
    "#critical_value = \n",
    "#df3 = pd.concat([emperic_distribution, normal_distribution], axis=1)\n",
    "emperic_distribution"
   ]
  },
  {
   "cell_type": "code",
   "execution_count": null,
   "id": "334487ce",
   "metadata": {},
   "outputs": [],
   "source": []
  },
  {
   "cell_type": "code",
   "execution_count": null,
   "id": "439ac852",
   "metadata": {},
   "outputs": [],
   "source": []
  },
  {
   "cell_type": "code",
   "execution_count": 2,
   "id": "68e460f1",
   "metadata": {},
   "outputs": [],
   "source": [
    "def play_selection(k):\n",
    "    played_selection = []\n",
    "    for i in range(k):\n",
    "        number =  sum(np.random.uniform(0, 1, 12)) - 6    # сумма 12 случайных чисел (распр. по R[0,1]) минус мат.ожидание\n",
    "        played_selection.append(number)   # добавляем полученное число в выборку\n",
    "        \n",
    "    result = pd.Series(played_selection, index = [f'x{i}' for i in range(1, k+1)],\n",
    "                       name = 'Разыгранная случайная величина с законом N(0, 1)')\n",
    "    return result"
   ]
  },
  {
   "cell_type": "code",
   "execution_count": 3,
   "id": "4b9699e4",
   "metadata": {},
   "outputs": [],
   "source": [
    "def hypothesis_testing(variable, alpha):\n",
    "    \n",
    "    # cтроим вариационный ряд    \n",
    "    k = len(variance_var)\n",
    "    variance_var = pd.Series(sorted(variable), index = [f'x*{i}' for i in range(1, k+1)], name = 'Вариационный ряд')    \n",
    "    print(variance_var, '\\n', '-'*55)\n",
    "    \n",
    "    \n",
    "    # построим группировочный ряд\n",
    "    m_opt = round(1 + 3.322 * np.log10(k)) # формула Стерджесса для определения числа интервалов\n",
    "    intervals = np.linspace(variance_var[0], variance_var[k-1], m_opt+1) # интервалы\n",
    "    sampling = pd.cut(variance_var, bins = intervals, include_lowest=True) # разбиваем выборку по интервальнысм кластерам\n",
    "    sampling.name = 'Интервалы' \n",
    "    print(sampling, '\\n', '-'*55)\n",
    "    \n",
    "    df = pd.concat([variance_var, sampling], axis=1) # соединяем все в один датафрейм для использования seaborn\n",
    "    histogramm = sns.catplot(x=\"Интервалы\", kind=\"count\", palette=\"ch:.25\", data=df) # гистограмма\n",
    "    \n",
    "    \n",
    "    sampling = sampling.value_counts() # подсчитываем количество элементов в каждом интервале\n",
    "    print(sampling) \n",
    "    sampling = sampling/k # группировочный ряд\n"
   ]
  },
  {
   "cell_type": "markdown",
   "id": "a4345480",
   "metadata": {},
   "source": [
    "Критерий пирсона"
   ]
  },
  {
   "cell_type": "code",
   "execution_count": null,
   "id": "8e332f73",
   "metadata": {},
   "outputs": [],
   "source": [
    "def Pearson_critirion(emperic, theoretic, alpha):\n",
    "    "
   ]
  },
  {
   "cell_type": "code",
   "execution_count": 11,
   "id": "58ae5d7a",
   "metadata": {},
   "outputs": [
    {
     "name": "stdout",
     "output_type": "stream",
     "text": [
      "[-1.63859113 -1.08717336 -0.53575559  0.01566218  0.56707995  1.11849772]\n",
      "[-1.36288224 -0.81146447 -0.2600467   0.29137107  0.84278884]\n"
     ]
    }
   ],
   "source": [
    "intervals = np.linspace(variance_var[0], variance_var[k-1], m_opt+1) # интервалы\n",
    "print(intervals)\n",
    "print(intervals[:5] + np.diff(intervals)/2)"
   ]
  },
  {
   "cell_type": "code",
   "execution_count": 123,
   "id": "24196be5",
   "metadata": {},
   "outputs": [
    {
     "data": {
      "text/plain": [
       "5"
      ]
     },
     "execution_count": 123,
     "metadata": {},
     "output_type": "execute_result"
    }
   ],
   "source": [
    "11 // 2"
   ]
  },
  {
   "cell_type": "code",
   "execution_count": 137,
   "id": "d9461456",
   "metadata": {},
   "outputs": [
    {
     "data": {
      "text/plain": [
       "-0.1785"
      ]
     },
     "execution_count": 137,
     "metadata": {},
     "output_type": "execute_result"
    }
   ],
   "source": [
    "middle_of_intrvls[int(np.where(temp_intervals==df['Интервалы'][k//2])[0])]"
   ]
  },
  {
   "cell_type": "code",
   "execution_count": null,
   "id": "00f690c6",
   "metadata": {},
   "outputs": [],
   "source": [
    "5/2"
   ]
  },
  {
   "cell_type": "code",
   "execution_count": null,
   "id": "2d14e752",
   "metadata": {},
   "outputs": [],
   "source": []
  }
 ],
 "metadata": {
  "kernelspec": {
   "display_name": "Python 3",
   "language": "python",
   "name": "python3"
  },
  "language_info": {
   "codemirror_mode": {
    "name": "ipython",
    "version": 3
   },
   "file_extension": ".py",
   "mimetype": "text/x-python",
   "name": "python",
   "nbconvert_exporter": "python",
   "pygments_lexer": "ipython3",
   "version": "3.8.8"
  }
 },
 "nbformat": 4,
 "nbformat_minor": 5
}
