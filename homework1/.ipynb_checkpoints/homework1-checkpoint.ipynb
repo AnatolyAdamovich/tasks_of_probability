{
 "cells": [
  {
   "cell_type": "markdown",
   "id": "17166cdc",
   "metadata": {},
   "source": [
    "# Постановка задачи\n",
    "Есть случайная величина, подчиняющаяся стандартному нормальному закону распределения $\\xi \\sim N(0, 1)$\n",
    "1. Необходимо получить k реализаций этой случайной величины  \n",
    "2. Построить гистограмму полученной выборки\n",
    "3. Получить эмпирические характеристики данной выборки\n",
    "4. С помощью критерия $\\chi^{2}$ проверить гипотезу о нормальном распределении"
   ]
  },
  {
   "cell_type": "code",
   "execution_count": 3,
   "id": "c2ab238c",
   "metadata": {},
   "outputs": [
    {
     "name": "stdout",
     "output_type": "stream",
     "text": [
      "Requirement already satisfied: nbconvert in c:\\users\\tolik\\anaconda3\\lib\\site-packages (6.0.7)\n",
      "Requirement already satisfied: pygments>=2.4.1 in c:\\users\\tolik\\anaconda3\\lib\\site-packages (from nbconvert) (2.8.1)\n",
      "Requirement already satisfied: mistune<2,>=0.8.1 in c:\\users\\tolik\\anaconda3\\lib\\site-packages (from nbconvert) (0.8.4)\n",
      "Requirement already satisfied: nbclient<0.6.0,>=0.5.0 in c:\\users\\tolik\\anaconda3\\lib\\site-packages (from nbconvert) (0.5.3)\n",
      "Requirement already satisfied: nbformat>=4.4 in c:\\users\\tolik\\anaconda3\\lib\\site-packages (from nbconvert) (5.1.3)\n",
      "Requirement already satisfied: bleach in c:\\users\\tolik\\anaconda3\\lib\\site-packages (from nbconvert) (3.3.0)\n",
      "Requirement already satisfied: jupyter-core in c:\\users\\tolik\\anaconda3\\lib\\site-packages (from nbconvert) (4.7.1)\n",
      "Requirement already satisfied: entrypoints>=0.2.2 in c:\\users\\tolik\\anaconda3\\lib\\site-packages (from nbconvert) (0.3)\n",
      "Requirement already satisfied: jupyterlab-pygments in c:\\users\\tolik\\anaconda3\\lib\\site-packages (from nbconvert) (0.1.2)\n",
      "Requirement already satisfied: pandocfilters>=1.4.1 in c:\\users\\tolik\\anaconda3\\lib\\site-packages (from nbconvert) (1.4.3)\n",
      "Requirement already satisfied: testpath in c:\\users\\tolik\\anaconda3\\lib\\site-packages (from nbconvert) (0.4.4)\n",
      "Requirement already satisfied: defusedxml in c:\\users\\tolik\\anaconda3\\lib\\site-packages (from nbconvert) (0.7.1)\n",
      "Requirement already satisfied: traitlets>=4.2 in c:\\users\\tolik\\anaconda3\\lib\\site-packages (from nbconvert) (5.0.5)\n",
      "Requirement already satisfied: jinja2>=2.4 in c:\\users\\tolik\\anaconda3\\lib\\site-packages (from nbconvert) (2.11.3)\n",
      "Requirement already satisfied: MarkupSafe>=0.23 in c:\\users\\tolik\\anaconda3\\lib\\site-packages (from jinja2>=2.4->nbconvert) (1.1.1)\n",
      "Requirement already satisfied: jupyter-client>=6.1.5 in c:\\users\\tolik\\anaconda3\\lib\\site-packages (from nbclient<0.6.0,>=0.5.0->nbconvert) (6.1.12)\n",
      "Requirement already satisfied: async-generator in c:\\users\\tolik\\anaconda3\\lib\\site-packages (from nbclient<0.6.0,>=0.5.0->nbconvert) (1.10)\n",
      "Requirement already satisfied: nest-asyncio in c:\\users\\tolik\\anaconda3\\lib\\site-packages (from nbclient<0.6.0,>=0.5.0->nbconvert) (1.5.1)\n",
      "Requirement already satisfied: tornado>=4.1 in c:\\users\\tolik\\anaconda3\\lib\\site-packages (from jupyter-client>=6.1.5->nbclient<0.6.0,>=0.5.0->nbconvert) (6.1)\n",
      "Requirement already satisfied: python-dateutil>=2.1 in c:\\users\\tolik\\anaconda3\\lib\\site-packages (from jupyter-client>=6.1.5->nbclient<0.6.0,>=0.5.0->nbconvert) (2.8.1)\n",
      "Requirement already satisfied: pyzmq>=13 in c:\\users\\tolik\\anaconda3\\lib\\site-packages (from jupyter-client>=6.1.5->nbclient<0.6.0,>=0.5.0->nbconvert) (20.0.0)\n",
      "Requirement already satisfied: pywin32>=1.0 in c:\\users\\tolik\\anaconda3\\lib\\site-packages (from jupyter-core->nbconvert) (227)\n",
      "Requirement already satisfied: jsonschema!=2.5.0,>=2.4 in c:\\users\\tolik\\anaconda3\\lib\\site-packages (from nbformat>=4.4->nbconvert) (3.2.0)\n",
      "Requirement already satisfied: ipython-genutils in c:\\users\\tolik\\anaconda3\\lib\\site-packages (from nbformat>=4.4->nbconvert) (0.2.0)\n",
      "Requirement already satisfied: six>=1.11.0 in c:\\users\\tolik\\anaconda3\\lib\\site-packages (from jsonschema!=2.5.0,>=2.4->nbformat>=4.4->nbconvert) (1.15.0)\n",
      "Requirement already satisfied: attrs>=17.4.0 in c:\\users\\tolik\\anaconda3\\lib\\site-packages (from jsonschema!=2.5.0,>=2.4->nbformat>=4.4->nbconvert) (20.3.0)\n",
      "Requirement already satisfied: pyrsistent>=0.14.0 in c:\\users\\tolik\\anaconda3\\lib\\site-packages (from jsonschema!=2.5.0,>=2.4->nbformat>=4.4->nbconvert) (0.17.3)\n",
      "Requirement already satisfied: setuptools in c:\\users\\tolik\\anaconda3\\lib\\site-packages (from jsonschema!=2.5.0,>=2.4->nbformat>=4.4->nbconvert) (52.0.0.post20210125)\n",
      "Requirement already satisfied: webencodings in c:\\users\\tolik\\anaconda3\\lib\\site-packages (from bleach->nbconvert) (0.5.1)\n",
      "Requirement already satisfied: packaging in c:\\users\\tolik\\anaconda3\\lib\\site-packages (from bleach->nbconvert) (20.9)\n",
      "Requirement already satisfied: pyparsing>=2.0.2 in c:\\users\\tolik\\anaconda3\\lib\\site-packages (from packaging->bleach->nbconvert) (2.4.7)\n"
     ]
    },
    {
     "name": "stderr",
     "output_type": "stream",
     "text": [
      "ERROR: Could not find a version that satisfies the requirement texlive-xetex\n",
      "ERROR: No matching distribution found for texlive-xetex\n"
     ]
    },
    {
     "ename": "ModuleNotFoundError",
     "evalue": "No module named 'texlive'",
     "output_type": "error",
     "traceback": [
      "\u001b[1;31m---------------------------------------------------------------------------\u001b[0m",
      "\u001b[1;31mModuleNotFoundError\u001b[0m                       Traceback (most recent call last)",
      "\u001b[1;32m<ipython-input-3-f8e66b34bb68>\u001b[0m in \u001b[0;36m<module>\u001b[1;34m\u001b[0m\n\u001b[0;32m      2\u001b[0m \u001b[0mget_ipython\u001b[0m\u001b[1;33m(\u001b[0m\u001b[1;33m)\u001b[0m\u001b[1;33m.\u001b[0m\u001b[0msystem\u001b[0m\u001b[1;33m(\u001b[0m\u001b[1;34m'pip install texlive-xetex'\u001b[0m\u001b[1;33m)\u001b[0m\u001b[1;33m\u001b[0m\u001b[1;33m\u001b[0m\u001b[0m\n\u001b[0;32m      3\u001b[0m \u001b[1;32mimport\u001b[0m \u001b[0mnbconvert\u001b[0m\u001b[1;33m\u001b[0m\u001b[1;33m\u001b[0m\u001b[0m\n\u001b[1;32m----> 4\u001b[1;33m \u001b[1;32mimport\u001b[0m \u001b[0mtexlive\u001b[0m\u001b[1;33m\u001b[0m\u001b[1;33m\u001b[0m\u001b[0m\n\u001b[0m\u001b[0;32m      5\u001b[0m \u001b[1;32mimport\u001b[0m \u001b[0mnumpy\u001b[0m \u001b[1;32mas\u001b[0m \u001b[0mnp\u001b[0m\u001b[1;33m\u001b[0m\u001b[1;33m\u001b[0m\u001b[0m\n\u001b[0;32m      6\u001b[0m \u001b[1;32mimport\u001b[0m \u001b[0mpandas\u001b[0m \u001b[1;32mas\u001b[0m \u001b[0mpd\u001b[0m\u001b[1;33m\u001b[0m\u001b[1;33m\u001b[0m\u001b[0m\n",
      "\u001b[1;31mModuleNotFoundError\u001b[0m: No module named 'texlive'"
     ]
    }
   ],
   "source": [
    "!pip install nbconvert\n",
    "!pip install texlive-xetex\n",
    "import nbconvert\n",
    "import texlive\n",
    "import numpy as np\n",
    "import pandas as pd\n",
    "import seaborn as sns\n",
    "import matplotlib.pyplot as plt\n",
    "import scipy.stats as sps"
   ]
  },
  {
   "cell_type": "markdown",
   "id": "9fd3c937",
   "metadata": {},
   "source": [
    "### Получение k реализаций случайной величины, распределенной по стандартному нормальному закону"
   ]
  },
  {
   "cell_type": "code",
   "execution_count": 14,
   "id": "73a9f7f6",
   "metadata": {},
   "outputs": [
    {
     "name": "stdout",
     "output_type": "stream",
     "text": [
      "Количество реализаций случайной величины: 1000\n"
     ]
    },
    {
     "data": {
      "text/plain": [
       "x1      -0.180691\n",
       "x2       0.540281\n",
       "x3      -1.427348\n",
       "x4       0.154750\n",
       "x5      -1.247620\n",
       "           ...   \n",
       "x996    -1.637937\n",
       "x997     0.081283\n",
       "x998     1.102961\n",
       "x999    -0.282373\n",
       "x1000   -1.387810\n",
       "Name: Разыгранная случайная величина с законом N(0, 1), Length: 1000, dtype: float64"
      ]
     },
     "execution_count": 14,
     "metadata": {},
     "output_type": "execute_result"
    }
   ],
   "source": [
    "k = int(input('Количество реализаций случайной величины: '))\n",
    "\n",
    "played_selection = []\n",
    "for i in range(k):\n",
    "    number =  sum(np.random.uniform(0, 1, 12)) - 6    # сумма 12 случайных чисел (распр. по R[0,1]) минус мат.ожидание\n",
    "    played_selection.append(number)   # добавляем полученное число в выборку\n",
    "        \n",
    "result = pd.Series(played_selection, index = [f'x{i}' for i in range(1, k+1)],\n",
    "                   name = 'Разыгранная случайная величина с законом N(0, 1)')\n",
    "result"
   ]
  },
  {
   "cell_type": "markdown",
   "id": "53768848",
   "metadata": {},
   "source": [
    "### Разбиение интервала, построение группировочного ряда"
   ]
  },
  {
   "cell_type": "code",
   "execution_count": 15,
   "id": "07f9f98d",
   "metadata": {},
   "outputs": [
    {
     "name": "stdout",
     "output_type": "stream",
     "text": [
      "x*1      -2.915948\n",
      "x*2      -2.830780\n",
      "x*3      -2.815601\n",
      "x*4      -2.652653\n",
      "x*5      -2.256792\n",
      "            ...   \n",
      "x*996     2.475760\n",
      "x*997     2.493062\n",
      "x*998     2.630220\n",
      "x*999     2.957998\n",
      "x*1000    3.319162\n",
      "Name: Вариационный ряд, Length: 1000, dtype: float64 \n",
      " -------------------------------------------------------\n",
      "Оптимальное число интервалов = 11\n"
     ]
    }
   ],
   "source": [
    "variable = result.copy()\n",
    "# cтроим вариационный ряд\n",
    "variance_var = pd.Series(sorted(variable), index = [f'x*{i}' for i in range(1, k+1)], name = 'Вариационный ряд')    \n",
    "print(variance_var, '\\n', '-'*55)\n",
    "\n",
    "# формула Стерджесса для определения числа интервалов\n",
    "m_opt = round(1 + 3.322 * np.log10(k)) \n",
    "print('Оптимальное число интервалов = {}'.format(m_opt))\n",
    "intervals = np.linspace(variance_var[0], variance_var[k-1], m_opt+1) # интервалы"
   ]
  },
  {
   "cell_type": "markdown",
   "id": "4c73af04",
   "metadata": {},
   "source": [
    "Подсчитаем частоты для каждого интервала"
   ]
  },
  {
   "cell_type": "code",
   "execution_count": 16,
   "id": "d1f92007",
   "metadata": {},
   "outputs": [
    {
     "name": "stdout",
     "output_type": "stream",
     "text": [
      "(-2.917, -2.349]       4\n",
      "(-2.349, -1.782]      31\n",
      "(-1.782, -1.215]      81\n",
      "(-1.215, -0.649]     133\n",
      "(-0.649, -0.0818]    216\n",
      "(-0.0818, 0.485]     228\n",
      "(0.485, 1.052]       161\n",
      "(1.052, 1.619]        98\n",
      "(1.619, 2.186]        36\n",
      "(2.186, 2.752]        10\n",
      "(2.752, 3.319]         2\n",
      "Name: Интервалы, dtype: int64\n",
      "-------------------------------------------------------\n",
      "        Вариационный ряд         Интервалы\n",
      "x*1            -2.915948  (-2.917, -2.349]\n",
      "x*2            -2.830780  (-2.917, -2.349]\n",
      "x*3            -2.815601  (-2.917, -2.349]\n",
      "x*4            -2.652653  (-2.917, -2.349]\n",
      "x*5            -2.256792  (-2.349, -1.782]\n",
      "...                  ...               ...\n",
      "x*996           2.475760    (2.186, 2.752]\n",
      "x*997           2.493062    (2.186, 2.752]\n",
      "x*998           2.630220    (2.186, 2.752]\n",
      "x*999           2.957998    (2.752, 3.319]\n",
      "x*1000          3.319162    (2.752, 3.319]\n",
      "\n",
      "[1000 rows x 2 columns]\n"
     ]
    }
   ],
   "source": [
    "interval_groups = pd.cut(variance_var, bins = intervals, include_lowest=True) # разбиваем выборку по интервальным группам\n",
    "interval_groups.name = 'Интервалы' \n",
    "df = pd.concat([variance_var, interval_groups], axis=1)\n",
    "\n",
    "\n",
    "interval_groups = interval_groups.value_counts(sort=False) # подсчитываем количество элементов в каждом интервале \n",
    "print(interval_groups, '-'*55, df, sep='\\n')"
   ]
  },
  {
   "cell_type": "markdown",
   "id": "f9a6b063",
   "metadata": {},
   "source": [
    "### Гистограмма разыгранной выборки"
   ]
  },
  {
   "cell_type": "code",
   "execution_count": 17,
   "id": "8bc9f60b",
   "metadata": {},
   "outputs": [
    {
     "data": {
      "image/png": "[encoded data removed]",
      "text/plain": [
       "<Figure size 1080x360 with 1 Axes>"
      ]
     },
     "metadata": {
      "needs_background": "light"
     },
     "output_type": "display_data"
    }
   ],
   "source": [
    "# Построение гистограммы для эмпирического распределения\n",
    "histogramm = sns.catplot(x=\"Интервалы\", kind=\"count\", palette=\"ch:.25\", data=df, height = 5, aspect=3)"
   ]
  },
  {
   "cell_type": "markdown",
   "id": "1efae531",
   "metadata": {},
   "source": [
    "### Экспресс-анализ (дескриптивная статистика)"
   ]
  },
  {
   "cell_type": "code",
   "execution_count": 18,
   "id": "db67dcda",
   "metadata": {},
   "outputs": [
    {
     "name": "stdout",
     "output_type": "stream",
     "text": [
      "-2.6330      4\n",
      "-2.0655     31\n",
      "-1.4985     81\n",
      "-0.9320    133\n",
      "-0.3654    216\n",
      " 0.2016    228\n",
      " 0.7685    161\n",
      " 1.3355     98\n",
      " 1.9025     36\n",
      " 2.4690     10\n",
      " 3.0355      2\n",
      "Name: Интервальное разбиение выборки, dtype: int64\n"
     ]
    },
    {
     "data": {
      "text/plain": [
       "Выборочное среднее       0.001000\n",
       "Выборочная дисперсия     0.975068\n",
       "Выборочное отклонение    0.987455\n",
       "Выборочный эксцесс      -0.662330\n",
       "Выборочная ассиметрия    0.020791\n",
       "Мода                     0.201600\n",
       "Медиана                  0.201600\n",
       "Name: Описательные статистики, dtype: float64"
      ]
     },
     "execution_count": 18,
     "metadata": {},
     "output_type": "execute_result"
    }
   ],
   "source": [
    "# найдем середины интервалов\n",
    "middle_of_intrvls = []\n",
    "temp_intervals = np.unique(df['Интервалы'].values) \n",
    "for ti in temp_intervals:\n",
    "    middle_of_intrvls.append(ti.mid)\n",
    "emperic_distribution = pd.Series(interval_groups.values, index=middle_of_intrvls,\n",
    "                             name = 'Интервальное разбиение выборки')\n",
    "print(emperic_distribution)\n",
    "\n",
    "# описательные характеристики\n",
    "emperic_mean = sum(interval_groups.values * middle_of_intrvls) / k \n",
    "emperic_moda = (emperic_distribution.index[emperic_distribution==max(emperic_distribution)])[0] # середина интервала с наиб. частотой\n",
    "emperic_median = middle_of_intrvls[int(np.where(temp_intervals==df['Интервалы'][k//2])[0])] \n",
    "emperic_disp = sum(emperic_distribution * (middle_of_intrvls - emperic_mean)**2) / k\n",
    "emperic_deviation = emperic_disp**(1/2)\n",
    "emperic_excess = sum(emperic_distribution * (middle_of_intrvls - emperic_mean)**4) / (k * emperic_diviation**4) - 3\n",
    "emperic_assim = sum(emperic_distribution * (middle_of_intrvls - emperic_mean)**3) / (k * emperic_diviation**3)\n",
    "\n",
    "# поместим характеристики в отдельную структуру\n",
    "emperic_description = pd.Series([emperic_mean, emperic_disp, emperic_deviation, emperic_excess,\n",
    "                                emperic_assim, emperic_moda, emperic_median], \n",
    "                               index=['Выборочное среднее', 'Выборочная дисперсия', 'Выборочное отклонение',\n",
    "                                     'Выборочный эксцесс', 'Выборочная ассиметрия', 'Мода', 'Медиана'],\n",
    "                              name='Описательные статистики')\n",
    "emperic_description"
   ]
  },
  {
   "cell_type": "markdown",
   "id": "cb30b542",
   "metadata": {},
   "source": [
    "### Теоретическое распределение\n",
    "(найдем теоретические частоты для середин интервалов с помощью формулы $n_{i}=\\frac{k*f(t_i)*h}{\\sigma_{emperic}}$, где $h$ - расстояние между серединами, $k$ - общий объем выборки, $\\sigma_{emperic}$ - эмпирическое отклонение,  $f(\\hat{t_i})$ - значение плотности стандартно распределенной случайной величины в  нормированной середине i-го интервала: $\\hat{t_i}=\\frac{t_i-a_{emperic}}{\\sigma_{emperic}}$)"
   ]
  },
  {
   "cell_type": "code",
   "execution_count": 19,
   "id": "abbe231d",
   "metadata": {},
   "outputs": [
    {
     "data": {
      "text/plain": [
       "-2.6330      6.535503\n",
       "-2.0655     25.664777\n",
       "-1.4985     72.379994\n",
       "-0.9320    146.723938\n",
       "-0.3654    214.023400\n",
       " 0.2016    224.593357\n",
       " 0.7685    169.502395\n",
       " 1.3355     91.993034\n",
       " 1.9025     35.904026\n",
       " 2.4690     10.089976\n",
       " 3.0355      2.040322\n",
       "Name: Теоретическое распределение стандартной нормальной величины, dtype: float64"
      ]
     },
     "execution_count": 19,
     "metadata": {},
     "output_type": "execute_result"
    }
   ],
   "source": [
    "normal_frequency = sps.norm().pdf((middle_of_intrvls-emperic_mean)/emperic_deviation)\n",
    "normal_frequency *= k*(middle_of_intrvls[1]-middle_of_intrvls[0])/emperic_deviation\n",
    "sum(normal_frequency)\n",
    "normal_distribution = pd.Series(normal_frequency, index = middle_of_intrvls,\n",
    "                                name = 'Теоретическое распределение стандартной нормальной величины')\n",
    "normal_distribution"
   ]
  },
  {
   "cell_type": "markdown",
   "id": "931a9cfd",
   "metadata": {},
   "source": [
    "### Проверка статистической гипотезы\n",
    "Есть случайная величина $\\psi$, представленная выборкой, полученной на 1 этапе. Требуется проверить гипотезу о том, что данная величина подчинена стандартному нормальному закону распределения. Для проверки гипотезы будет использоваться критерий Пирсона.  \n",
    "$H_{0}:$ $\\psi$ подчинена стандартному нормальному закону распределения $N(0, 1)$  \n",
    "$H_{1}:$ $\\psi$ не подчинена стандартному нормальному закону распределения $N(0, 1)$"
   ]
  },
  {
   "cell_type": "code",
   "execution_count": 20,
   "id": "470257b9",
   "metadata": {},
   "outputs": [
    {
     "name": "stdout",
     "output_type": "stream",
     "text": [
      "Уровень значимости: 0.05\n",
      "Критическая правосторонняя область: [15.507313055865454;+inf]\n"
     ]
    },
    {
     "data": {
      "text/html": [
       "<div>\n",
       "<style scoped>\n",
       "    .dataframe tbody tr th:only-of-type {\n",
       "        vertical-align: middle;\n",
       "    }\n",
       "\n",
       "    .dataframe tbody tr th {\n",
       "        vertical-align: top;\n",
       "    }\n",
       "\n",
       "    .dataframe thead th {\n",
       "        text-align: right;\n",
       "    }\n",
       "</style>\n",
       "<table border=\"1\" class=\"dataframe\">\n",
       "  <thead>\n",
       "    <tr style=\"text-align: right;\">\n",
       "      <th></th>\n",
       "      <th>Эмпирические частоты</th>\n",
       "      <th>Теоретические частоты</th>\n",
       "    </tr>\n",
       "  </thead>\n",
       "  <tbody>\n",
       "    <tr>\n",
       "      <th>-2.6330</th>\n",
       "      <td>4</td>\n",
       "      <td>6.535503</td>\n",
       "    </tr>\n",
       "    <tr>\n",
       "      <th>-2.0655</th>\n",
       "      <td>31</td>\n",
       "      <td>25.664777</td>\n",
       "    </tr>\n",
       "    <tr>\n",
       "      <th>-1.4985</th>\n",
       "      <td>81</td>\n",
       "      <td>72.379994</td>\n",
       "    </tr>\n",
       "    <tr>\n",
       "      <th>-0.9320</th>\n",
       "      <td>133</td>\n",
       "      <td>146.723938</td>\n",
       "    </tr>\n",
       "    <tr>\n",
       "      <th>-0.3654</th>\n",
       "      <td>216</td>\n",
       "      <td>214.023400</td>\n",
       "    </tr>\n",
       "    <tr>\n",
       "      <th>0.2016</th>\n",
       "      <td>228</td>\n",
       "      <td>224.593357</td>\n",
       "    </tr>\n",
       "    <tr>\n",
       "      <th>0.7685</th>\n",
       "      <td>161</td>\n",
       "      <td>169.502395</td>\n",
       "    </tr>\n",
       "    <tr>\n",
       "      <th>1.3355</th>\n",
       "      <td>98</td>\n",
       "      <td>91.993034</td>\n",
       "    </tr>\n",
       "    <tr>\n",
       "      <th>1.9025</th>\n",
       "      <td>36</td>\n",
       "      <td>35.904026</td>\n",
       "    </tr>\n",
       "    <tr>\n",
       "      <th>2.4690</th>\n",
       "      <td>10</td>\n",
       "      <td>10.089976</td>\n",
       "    </tr>\n",
       "    <tr>\n",
       "      <th>3.0355</th>\n",
       "      <td>2</td>\n",
       "      <td>2.040322</td>\n",
       "    </tr>\n",
       "  </tbody>\n",
       "</table>\n",
       "</div>"
      ],
      "text/plain": [
       "         Эмпирические частоты  Теоретические частоты\n",
       "-2.6330                     4               6.535503\n",
       "-2.0655                    31              25.664777\n",
       "-1.4985                    81              72.379994\n",
       "-0.9320                   133             146.723938\n",
       "-0.3654                   216             214.023400\n",
       " 0.2016                   228             224.593357\n",
       " 0.7685                   161             169.502395\n",
       " 1.3355                    98              91.993034\n",
       " 1.9025                    36              35.904026\n",
       " 2.4690                    10              10.089976\n",
       " 3.0355                     2               2.040322"
      ]
     },
     "execution_count": 20,
     "metadata": {},
     "output_type": "execute_result"
    }
   ],
   "source": [
    "# зададим уровень значимости и найдем критическую область с помощью alpha-квантиля распределения хи2 \n",
    "# с m_opt-params-1 степенями свободы\n",
    "alpha = float(input('Уровень значимости: '))\n",
    "critical_value = sps.chi2.isf(q=alpha, df=m_opt-2-1) # у норм. величины два параметра\n",
    "print('Критическая правосторонняя область: [{};+inf]'.format(critical_value))\n",
    "\n",
    "df3 = pd.concat([emperic_distribution, normal_distribution], axis=1)\n",
    "df3 = df3.rename(columns = {'Интервальное разбиение выборки': 'Эмпирические частоты',\n",
    "                     'Теоретическое распределение стандартной нормальной величины': 'Теоретические частоты'})\n",
    "df3"
   ]
  },
  {
   "cell_type": "markdown",
   "id": "7c5f1ef4",
   "metadata": {},
   "source": [
    "Проверка по критерию хи-квадрат Пирсона $\\sum\\limits_{i=1}^{m_{opt}}\\frac{(\\hat{n_{i}}-n_i)^2}{n_{i}}$"
   ]
  },
  {
   "cell_type": "code",
   "execution_count": 21,
   "id": "334487ce",
   "metadata": {},
   "outputs": [
    {
     "name": "stdout",
     "output_type": "stream",
     "text": [
      "Наблюдаемое значение критерия =  5.293543779527519\n",
      "С заданным уровнем значимости 0.05 гипотеза о согласовании эмпирического закона распределения со стандартным нормальным  законом распределения принимается\n"
     ]
    }
   ],
   "source": [
    "value = sum(((df3['Эмпирические частоты'] - df3['Теоретические частоты'])**2)/df3['Теоретические частоты'])\n",
    "print('Наблюдаемое значение критерия = ', value)\n",
    "if value > critical_value:\n",
    "    print('С заданным уровнем значимости {} гипотеза о согласовании эмпирического закона распределения со' \\\n",
    "    ' стандартным нормальным законом распределения отклоняется'.format(alpha))\n",
    "else:\n",
    "    print('С заданным уровнем значимости {} гипотеза о согласовании эмпирического закона распределения со' \\\n",
    "    ' стандартным нормальным  законом распределения принимается'.format(alpha))"
   ]
  }
 ],
 "metadata": {
  "kernelspec": {
   "display_name": "Python 3",
   "language": "python",
   "name": "python3"
  },
  "language_info": {
   "codemirror_mode": {
    "name": "ipython",
    "version": 3
   },
   "file_extension": ".py",
   "mimetype": "text/x-python",
   "name": "python",
   "nbconvert_exporter": "python",
   "pygments_lexer": "ipython3",
   "version": "3.8.8"
  },
  "toc": {
   "base_numbering": 1,
   "nav_menu": {},
   "number_sections": true,
   "sideBar": true,
   "skip_h1_title": false,
   "title_cell": "Table of Contents",
   "title_sidebar": "Contents",
   "toc_cell": false,
   "toc_position": {},
   "toc_section_display": true,
   "toc_window_display": false
  }
 },
 "nbformat": 4,
 "nbformat_minor": 5
}
