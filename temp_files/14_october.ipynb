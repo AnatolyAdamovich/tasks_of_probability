{
 "cells": [
  {
   "cell_type": "code",
   "execution_count": 1,
   "id": "b60d7ccc",
   "metadata": {},
   "outputs": [],
   "source": [
    "import numpy as np"
   ]
  },
  {
   "cell_type": "code",
   "execution_count": 13,
   "id": "c7532f00",
   "metadata": {},
   "outputs": [
    {
     "data": {
      "text/plain": [
       "array([[0.8 , 0.05, 0.15],\n",
       "       [0.1 , 0.7 , 0.2 ],\n",
       "       [0.3 , 0.4 , 0.3 ]])"
      ]
     },
     "execution_count": 13,
     "metadata": {},
     "output_type": "execute_result"
    }
   ],
   "source": [
    "A = np.array([[0.8, 0.15, 0.05],\n",
    "              [0.4, 0.5, 0.1],\n",
    "              [0.3, 0.3, 0.4]])\n",
    "\n",
    "b = np.array([[0.8, 0.05, 0.15],\n",
    "              [0.1, 0.7, 0.2],\n",
    "              [0.3, 0.4, 0.3]])\n",
    "b"
   ]
  },
  {
   "cell_type": "markdown",
   "id": "8c1c2fc2",
   "metadata": {},
   "source": [
    "1 - солнечно, 2 - облачно, 3 - дождливо"
   ]
  },
  {
   "cell_type": "code",
   "execution_count": 25,
   "id": "4b7ec73f",
   "metadata": {},
   "outputs": [
    {
     "data": {
      "text/plain": [
       "array([0.3, 0.4, 0.3])"
      ]
     },
     "execution_count": 25,
     "metadata": {},
     "output_type": "execute_result"
    }
   ],
   "source": [
    "b[:][2] # первый день (+7 градусов)"
   ]
  },
  {
   "cell_type": "code",
   "execution_count": null,
   "id": "4a5aa9c0",
   "metadata": {},
   "outputs": [],
   "source": []
  }
 ],
 "metadata": {
  "kernelspec": {
   "display_name": "Python 3",
   "language": "python",
   "name": "python3"
  },
  "language_info": {
   "codemirror_mode": {
    "name": "ipython",
    "version": 3
   },
   "file_extension": ".py",
   "mimetype": "text/x-python",
   "name": "python",
   "nbconvert_exporter": "python",
   "pygments_lexer": "ipython3",
   "version": "3.8.8"
  },
  "toc": {
   "base_numbering": 1,
   "nav_menu": {},
   "number_sections": true,
   "sideBar": true,
   "skip_h1_title": false,
   "title_cell": "Table of Contents",
   "title_sidebar": "Contents",
   "toc_cell": false,
   "toc_position": {},
   "toc_section_display": true,
   "toc_window_display": false
  }
 },
 "nbformat": 4,
 "nbformat_minor": 5
}
