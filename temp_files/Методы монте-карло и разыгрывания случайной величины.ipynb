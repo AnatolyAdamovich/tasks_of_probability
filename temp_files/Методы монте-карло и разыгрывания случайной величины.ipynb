{
 "cells": [
  {
   "cell_type": "code",
   "execution_count": 4,
   "id": "a2a5caeb",
   "metadata": {},
   "outputs": [],
   "source": [
    "import numpy as np\n",
    "import pandas as pd"
   ]
  },
  {
   "cell_type": "code",
   "execution_count": 11,
   "id": "cdf776c8",
   "metadata": {},
   "outputs": [],
   "source": [
    "def enter_law_of_random_variable():\n",
    "    n = int(input('Количество возможных значений случайной величины = ')) \n",
    "    pr_index = [f'x{i}' for i in range(1, n+1)]\n",
    "    print('\\nВероятности случайной величины:')\n",
    "    probabilities = [float(input(f'p{i} = ')) for i in range(1, n+1)]\n",
    "    if sum(probabilities) != 1:\n",
    "        print('Сумма вероятностей должна быть равна 1')\n",
    "        return None\n",
    "    law = pd.Series(probabilities, index = pr_index)\n",
    "    return law"
   ]
  },
  {
   "cell_type": "code",
   "execution_count": 13,
   "id": "eec12420",
   "metadata": {},
   "outputs": [
    {
     "name": "stdout",
     "output_type": "stream",
     "text": [
      "Количество возможных значений случайной величины = 5\n",
      "\n",
      "Вероятности случайной величины:\n",
      "p1 = 0.25\n",
      "p2 = 0.15\n",
      "p3 = 0.1\n",
      "p4 = 0.2\n",
      "p5 = 0.3\n"
     ]
    }
   ],
   "source": [
    "law = enter_law_of_random_variable()"
   ]
  },
  {
   "cell_type": "code",
   "execution_count": 20,
   "id": "4f1986f6",
   "metadata": {},
   "outputs": [
    {
     "data": {
      "text/plain": [
       "0.15"
      ]
     },
     "execution_count": 20,
     "metadata": {},
     "output_type": "execute_result"
    }
   ],
   "source": [
    "law[1]"
   ]
  },
  {
   "cell_type": "code",
   "execution_count": 42,
   "id": "38b76cc2",
   "metadata": {},
   "outputs": [],
   "source": [
    "def getting_sample(law):\n",
    "    split_interval = np.concatenate([[0], np.cumsum(law.tolist())])\n",
    "    print('Полученный интервал:\\n{}'.format(split_interval))\n",
    "    m = int(input('Длина разыгрываемой выборки: '))\n",
    "    random_nums = np.random.uniform(0, 1, m)\n",
    "    random_nums = random_nums.round(2)\n",
    "    print('Рандомные числа: {}'.format(random_nums))\n",
    "    result_index = [f'y{i}' for i in range(1, m+1)]\n",
    "    result_value = []\n",
    "    for num in random_nums:\n",
    "        for j in range(1, len(split_interval)):\n",
    "            if (num > split_interval[j-1]) and (num < split_interval[j]):\n",
    "                result_value.append(law.index[j-1])\n",
    "                break\n",
    "    result = pd.Series(result_value, index = result_index, name = 'Разыгранная случайная величина')\n",
    "    return result"
   ]
  },
  {
   "cell_type": "code",
   "execution_count": 45,
   "id": "18f4efdf",
   "metadata": {},
   "outputs": [
    {
     "name": "stdout",
     "output_type": "stream",
     "text": [
      "Полученный интервал:\n",
      "[0.   0.25 0.4  0.5  0.7  1.  ]\n",
      "Длина разыгрываемой выборки: 10\n",
      "Рандомные числа: [0.02 0.05 0.64 0.83 0.83 0.05 0.35 0.02 0.7  0.7 ]\n"
     ]
    },
    {
     "ename": "ValueError",
     "evalue": "Length of passed values is 8, index implies 10.",
     "output_type": "error",
     "traceback": [
      "\u001b[1;31m---------------------------------------------------------------------------\u001b[0m",
      "\u001b[1;31mValueError\u001b[0m                                Traceback (most recent call last)",
      "\u001b[1;32m<ipython-input-45-deabdf01d46e>\u001b[0m in \u001b[0;36m<module>\u001b[1;34m\u001b[0m\n\u001b[1;32m----> 1\u001b[1;33m \u001b[0mres\u001b[0m \u001b[1;33m=\u001b[0m \u001b[0mgetting_sample\u001b[0m\u001b[1;33m(\u001b[0m\u001b[0mlaw\u001b[0m\u001b[1;33m)\u001b[0m\u001b[1;33m\u001b[0m\u001b[1;33m\u001b[0m\u001b[0m\n\u001b[0m\u001b[0;32m      2\u001b[0m \u001b[0memperic\u001b[0m \u001b[1;33m=\u001b[0m \u001b[0mres\u001b[0m\u001b[1;33m.\u001b[0m\u001b[0mvalue_counts\u001b[0m\u001b[1;33m(\u001b[0m\u001b[1;33m)\u001b[0m \u001b[1;33m/\u001b[0m \u001b[0mlen\u001b[0m\u001b[1;33m(\u001b[0m\u001b[0mlaw\u001b[0m\u001b[1;33m)\u001b[0m\u001b[1;33m\u001b[0m\u001b[1;33m\u001b[0m\u001b[0m\n\u001b[0;32m      3\u001b[0m \u001b[0memperic\u001b[0m\u001b[1;33m.\u001b[0m\u001b[0mname\u001b[0m \u001b[1;33m=\u001b[0m \u001b[1;34m'Эмпирическое распределение'\u001b[0m\u001b[1;33m\u001b[0m\u001b[1;33m\u001b[0m\u001b[0m\n",
      "\u001b[1;32m<ipython-input-42-71361e5218ad>\u001b[0m in \u001b[0;36mgetting_sample\u001b[1;34m(law)\u001b[0m\n\u001b[0;32m     13\u001b[0m                 \u001b[0mresult_value\u001b[0m\u001b[1;33m.\u001b[0m\u001b[0mappend\u001b[0m\u001b[1;33m(\u001b[0m\u001b[0mlaw\u001b[0m\u001b[1;33m.\u001b[0m\u001b[0mindex\u001b[0m\u001b[1;33m[\u001b[0m\u001b[0mj\u001b[0m\u001b[1;33m-\u001b[0m\u001b[1;36m1\u001b[0m\u001b[1;33m]\u001b[0m\u001b[1;33m)\u001b[0m\u001b[1;33m\u001b[0m\u001b[1;33m\u001b[0m\u001b[0m\n\u001b[0;32m     14\u001b[0m                 \u001b[1;32mbreak\u001b[0m\u001b[1;33m\u001b[0m\u001b[1;33m\u001b[0m\u001b[0m\n\u001b[1;32m---> 15\u001b[1;33m     \u001b[0mresult\u001b[0m \u001b[1;33m=\u001b[0m \u001b[0mpd\u001b[0m\u001b[1;33m.\u001b[0m\u001b[0mSeries\u001b[0m\u001b[1;33m(\u001b[0m\u001b[0mresult_value\u001b[0m\u001b[1;33m,\u001b[0m \u001b[0mindex\u001b[0m \u001b[1;33m=\u001b[0m \u001b[0mresult_index\u001b[0m\u001b[1;33m,\u001b[0m \u001b[0mname\u001b[0m \u001b[1;33m=\u001b[0m \u001b[1;34m'Разыгранная случайная величина'\u001b[0m\u001b[1;33m)\u001b[0m\u001b[1;33m\u001b[0m\u001b[1;33m\u001b[0m\u001b[0m\n\u001b[0m\u001b[0;32m     16\u001b[0m     \u001b[1;32mreturn\u001b[0m \u001b[0mresult\u001b[0m\u001b[1;33m\u001b[0m\u001b[1;33m\u001b[0m\u001b[0m\n",
      "\u001b[1;32m~\\anaconda3\\lib\\site-packages\\pandas\\core\\series.py\u001b[0m in \u001b[0;36m__init__\u001b[1;34m(self, data, index, dtype, name, copy, fastpath)\u001b[0m\n\u001b[0;32m    348\u001b[0m                 \u001b[1;32mtry\u001b[0m\u001b[1;33m:\u001b[0m\u001b[1;33m\u001b[0m\u001b[1;33m\u001b[0m\u001b[0m\n\u001b[0;32m    349\u001b[0m                     \u001b[1;32mif\u001b[0m \u001b[0mlen\u001b[0m\u001b[1;33m(\u001b[0m\u001b[0mindex\u001b[0m\u001b[1;33m)\u001b[0m \u001b[1;33m!=\u001b[0m \u001b[0mlen\u001b[0m\u001b[1;33m(\u001b[0m\u001b[0mdata\u001b[0m\u001b[1;33m)\u001b[0m\u001b[1;33m:\u001b[0m\u001b[1;33m\u001b[0m\u001b[1;33m\u001b[0m\u001b[0m\n\u001b[1;32m--> 350\u001b[1;33m                         raise ValueError(\n\u001b[0m\u001b[0;32m    351\u001b[0m                             \u001b[1;34mf\"Length of passed values is {len(data)}, \"\u001b[0m\u001b[1;33m\u001b[0m\u001b[1;33m\u001b[0m\u001b[0m\n\u001b[0;32m    352\u001b[0m                             \u001b[1;34mf\"index implies {len(index)}.\"\u001b[0m\u001b[1;33m\u001b[0m\u001b[1;33m\u001b[0m\u001b[0m\n",
      "\u001b[1;31mValueError\u001b[0m: Length of passed values is 8, index implies 10."
     ]
    }
   ],
   "source": [
    "res = getting_sample(law)\n",
    "emperic = res.value_counts() / len(law)\n",
    "emperic.name = 'Эмпирическое распределение'"
   ]
  },
  {
   "cell_type": "code",
   "execution_count": null,
   "id": "e3d9a6ab",
   "metadata": {},
   "outputs": [],
   "source": []
  },
  {
   "cell_type": "code",
   "execution_count": null,
   "id": "601fe598",
   "metadata": {},
   "outputs": [],
   "source": []
  },
  {
   "cell_type": "code",
   "execution_count": null,
   "id": "9a226d6e",
   "metadata": {},
   "outputs": [],
   "source": []
  },
  {
   "cell_type": "markdown",
   "id": "2d7f938a",
   "metadata": {},
   "source": [
    "n = 200\n",
    "- pirson\n",
    "+ числовые характеристики (mean, moda, assim, disp, median, ex)"
   ]
  },
  {
   "cell_type": "code",
   "execution_count": 51,
   "id": "37c43a27",
   "metadata": {},
   "outputs": [
    {
     "name": "stdout",
     "output_type": "stream",
     "text": [
      "-1.0606274482889155\n",
      "1.084817370990411\n",
      "0.09744200108632572\n",
      "-1.178422098012847\n",
      "-1.387557762541439\n",
      "-0.7538072470205552\n",
      "0.3214489286649185\n",
      "0.32723657194668476\n",
      "-0.5042527226950853\n",
      "-0.9860650631869623\n"
     ]
    }
   ],
   "source": [
    "for i in range(10):\n",
    "    print(sum(np.random.uniform(0,1,12)) - 6)"
   ]
  },
  {
   "cell_type": "code",
   "execution_count": 58,
   "id": "630bc457",
   "metadata": {},
   "outputs": [
    {
     "name": "stdout",
     "output_type": "stream",
     "text": [
      "0.1664512112076352\n"
     ]
    }
   ],
   "source": [
    "r = np.random.uniform(0,1,100000)\n",
    "function = lambda x: x - x**2\n",
    "print(sum(function(r))/100000)"
   ]
  },
  {
   "cell_type": "code",
   "execution_count": 53,
   "id": "9849a5c0",
   "metadata": {},
   "outputs": [
    {
     "data": {
      "text/plain": [
       "0.16666666666666669"
      ]
     },
     "execution_count": 53,
     "metadata": {},
     "output_type": "execute_result"
    }
   ],
   "source": [
    "1/2 - 1/3"
   ]
  },
  {
   "cell_type": "code",
   "execution_count": null,
   "id": "8df207f2",
   "metadata": {},
   "outputs": [],
   "source": []
  }
 ],
 "metadata": {
  "kernelspec": {
   "display_name": "Python 3",
   "language": "python",
   "name": "python3"
  },
  "language_info": {
   "codemirror_mode": {
    "name": "ipython",
    "version": 3
   },
   "file_extension": ".py",
   "mimetype": "text/x-python",
   "name": "python",
   "nbconvert_exporter": "python",
   "pygments_lexer": "ipython3",
   "version": "3.8.8"
  },
  "toc": {
   "base_numbering": 1,
   "nav_menu": {},
   "number_sections": true,
   "sideBar": true,
   "skip_h1_title": false,
   "title_cell": "Table of Contents",
   "title_sidebar": "Contents",
   "toc_cell": false,
   "toc_position": {},
   "toc_section_display": true,
   "toc_window_display": false
  }
 },
 "nbformat": 4,
 "nbformat_minor": 5
}
