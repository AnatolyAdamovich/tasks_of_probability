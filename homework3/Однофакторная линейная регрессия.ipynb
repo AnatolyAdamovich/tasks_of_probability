{
 "cells": [
  {
   "cell_type": "markdown",
   "id": "8c9ce3ea",
   "metadata": {},
   "source": [
    "## Однофакторная линейная регрессия\n",
    "Задание: выполнить регрессионный анализ и найти 95% доверительный интервал для углового коэффициента и свободного члена"
   ]
  },
  {
   "cell_type": "code",
   "execution_count": 23,
   "id": "76ff1419",
   "metadata": {},
   "outputs": [],
   "source": [
    "%matplotlib inline\n",
    "import numpy as np\n",
    "import pandas as pd\n",
    "import matplotlib.pyplot as plt"
   ]
  },
  {
   "cell_type": "code",
   "execution_count": 24,
   "id": "c4f2c489",
   "metadata": {},
   "outputs": [
    {
     "data": {
      "text/html": [
       "<div>\n",
       "<style scoped>\n",
       "    .dataframe tbody tr th:only-of-type {\n",
       "        vertical-align: middle;\n",
       "    }\n",
       "\n",
       "    .dataframe tbody tr th {\n",
       "        vertical-align: top;\n",
       "    }\n",
       "\n",
       "    .dataframe thead th {\n",
       "        text-align: right;\n",
       "    }\n",
       "</style>\n",
       "<table border=\"1\" class=\"dataframe\">\n",
       "  <thead>\n",
       "    <tr style=\"text-align: right;\">\n",
       "      <th></th>\n",
       "      <th>X</th>\n",
       "      <th>Y</th>\n",
       "    </tr>\n",
       "  </thead>\n",
       "  <tbody>\n",
       "    <tr>\n",
       "      <th>0</th>\n",
       "      <td>1</td>\n",
       "      <td>17</td>\n",
       "    </tr>\n",
       "    <tr>\n",
       "      <th>1</th>\n",
       "      <td>2</td>\n",
       "      <td>13</td>\n",
       "    </tr>\n",
       "    <tr>\n",
       "      <th>2</th>\n",
       "      <td>3</td>\n",
       "      <td>22</td>\n",
       "    </tr>\n",
       "    <tr>\n",
       "      <th>3</th>\n",
       "      <td>4</td>\n",
       "      <td>20</td>\n",
       "    </tr>\n",
       "    <tr>\n",
       "      <th>4</th>\n",
       "      <td>5</td>\n",
       "      <td>20</td>\n",
       "    </tr>\n",
       "    <tr>\n",
       "      <th>5</th>\n",
       "      <td>6</td>\n",
       "      <td>28</td>\n",
       "    </tr>\n",
       "    <tr>\n",
       "      <th>6</th>\n",
       "      <td>7</td>\n",
       "      <td>26</td>\n",
       "    </tr>\n",
       "    <tr>\n",
       "      <th>7</th>\n",
       "      <td>8</td>\n",
       "      <td>28</td>\n",
       "    </tr>\n",
       "    <tr>\n",
       "      <th>8</th>\n",
       "      <td>9</td>\n",
       "      <td>34</td>\n",
       "    </tr>\n",
       "    <tr>\n",
       "      <th>9</th>\n",
       "      <td>10</td>\n",
       "      <td>46</td>\n",
       "    </tr>\n",
       "    <tr>\n",
       "      <th>10</th>\n",
       "      <td>11</td>\n",
       "      <td>44</td>\n",
       "    </tr>\n",
       "    <tr>\n",
       "      <th>11</th>\n",
       "      <td>12</td>\n",
       "      <td>47</td>\n",
       "    </tr>\n",
       "    <tr>\n",
       "      <th>12</th>\n",
       "      <td>13</td>\n",
       "      <td>45</td>\n",
       "    </tr>\n",
       "    <tr>\n",
       "      <th>13</th>\n",
       "      <td>14</td>\n",
       "      <td>54</td>\n",
       "    </tr>\n",
       "    <tr>\n",
       "      <th>14</th>\n",
       "      <td>15</td>\n",
       "      <td>55</td>\n",
       "    </tr>\n",
       "    <tr>\n",
       "      <th>15</th>\n",
       "      <td>16</td>\n",
       "      <td>60</td>\n",
       "    </tr>\n",
       "    <tr>\n",
       "      <th>16</th>\n",
       "      <td>17</td>\n",
       "      <td>58</td>\n",
       "    </tr>\n",
       "    <tr>\n",
       "      <th>17</th>\n",
       "      <td>18</td>\n",
       "      <td>61</td>\n",
       "    </tr>\n",
       "    <tr>\n",
       "      <th>18</th>\n",
       "      <td>19</td>\n",
       "      <td>64</td>\n",
       "    </tr>\n",
       "    <tr>\n",
       "      <th>19</th>\n",
       "      <td>20</td>\n",
       "      <td>70</td>\n",
       "    </tr>\n",
       "  </tbody>\n",
       "</table>\n",
       "</div>"
      ],
      "text/plain": [
       "     X   Y\n",
       "0    1  17\n",
       "1    2  13\n",
       "2    3  22\n",
       "3    4  20\n",
       "4    5  20\n",
       "5    6  28\n",
       "6    7  26\n",
       "7    8  28\n",
       "8    9  34\n",
       "9   10  46\n",
       "10  11  44\n",
       "11  12  47\n",
       "12  13  45\n",
       "13  14  54\n",
       "14  15  55\n",
       "15  16  60\n",
       "16  17  58\n",
       "17  18  61\n",
       "18  19  64\n",
       "19  20  70"
      ]
     },
     "execution_count": 24,
     "metadata": {},
     "output_type": "execute_result"
    }
   ],
   "source": [
    "# данные\n",
    "data = {'X':np.arange(20)+1, \n",
    "        'Y':np.array([17, 13, 22, 20, 20,\n",
    "                      28, 26, 28, 34, 46,\n",
    "                      44, 47, 45, 54, 55,\n",
    "                      60, 58, 61, 64, 70])}\n",
    "data = pd.DataFrame(data)\n",
    "data"
   ]
  },
  {
   "cell_type": "code",
   "execution_count": 25,
   "id": "4c36f717",
   "metadata": {},
   "outputs": [
    {
     "data": {
      "text/plain": [
       "<AxesSubplot:title={'center':'Зависимость Y от X на графике'}, xlabel='X', ylabel='Y'>"
      ]
     },
     "execution_count": 25,
     "metadata": {},
     "output_type": "execute_result"
    },
    {
     "data": {
      "image/png": "[encoded data removed]",
      "text/plain": [
       "<Figure size 432x288 with 1 Axes>"
      ]
     },
     "metadata": {
      "needs_background": "light"
     },
     "output_type": "display_data"
    }
   ],
   "source": [
    "data.plot(x=\"X\", y=\"Y\", title=\"Зависимость Y от X на графике\",\n",
    "         xlabel='X', ylabel='Y')"
   ]
  },
  {
   "cell_type": "markdown",
   "id": "12449849",
   "metadata": {},
   "source": [
    "Видно, что при возрастании X возрастает и Y, то есть зависимость есть, причем она близка к линейной (судя по графику). В связи с этим будем искать зависимость в виде: **y = a*x + b**"
   ]
  },
  {
   "cell_type": "markdown",
   "id": "47cac6d5",
   "metadata": {},
   "source": [
    "### Нахождение коэффициентов регрессии\n",
    "Используется метод наименьших квадратов: будем минимизировать величину I, которая является *остаточной дисперсией*. Для нахождения коэффициентов a, b необходимо решить систему уравнений. "
   ]
  },
  {
   "cell_type": "code",
   "execution_count": 34,
   "id": "78220f74",
   "metadata": {},
   "outputs": [],
   "source": [
    "# среднеее по Х, по Y, по XY, по X^2\n",
    "x_mean = np.mean(data.X.values)\n",
    "y_mean = np.mean(data.Y.values)\n",
    "xy_mean = np.mean(data.X.values * data.Y.values)\n",
    "x2_mean = np.mean(data.X.values**2)"
   ]
  },
  {
   "cell_type": "code",
   "execution_count": 61,
   "id": "86d9610e",
   "metadata": {},
   "outputs": [
    {
     "name": "stdout",
     "output_type": "stream",
     "text": [
      "y = 2.973*x + 9.384 ---- уравнение регрессии\n"
     ]
    }
   ],
   "source": [
    "A = np.array([[x2_mean, x_mean],\n",
    "              [x_mean, 1]])\n",
    "r = np.array([[xy_mean],\n",
    "              [y_mean]])\n",
    "res = np.linalg.inv(A)@r\n",
    "\n",
    "\n",
    "# коэффициенты регрессии\n",
    "a, b = res\n",
    "print(f'y = {round(float(a),3)}*x + {round(float(b),3)} ---- уравнение регрессии')\n",
    "f = lambda x: a*x + b"
   ]
  },
  {
   "cell_type": "markdown",
   "id": "c9c681a2",
   "metadata": {},
   "source": [
    "### Построение таблицы дисперсионного анализа"
   ]
  },
  {
   "cell_type": "code",
   "execution_count": 66,
   "id": "651503d2",
   "metadata": {},
   "outputs": [
    {
     "data": {
      "text/html": [
       "<div>\n",
       "<style scoped>\n",
       "    .dataframe tbody tr th:only-of-type {\n",
       "        vertical-align: middle;\n",
       "    }\n",
       "\n",
       "    .dataframe tbody tr th {\n",
       "        vertical-align: top;\n",
       "    }\n",
       "\n",
       "    .dataframe thead th {\n",
       "        text-align: right;\n",
       "    }\n",
       "</style>\n",
       "<table border=\"1\" class=\"dataframe\">\n",
       "  <thead>\n",
       "    <tr style=\"text-align: right;\">\n",
       "      <th></th>\n",
       "      <th>Сумма квадратов</th>\n",
       "      <th>Степени свободы</th>\n",
       "      <th>Средний квадрат</th>\n",
       "    </tr>\n",
       "  </thead>\n",
       "  <tbody>\n",
       "    <tr>\n",
       "      <th>Регрессия</th>\n",
       "      <td>5877.487218</td>\n",
       "      <td>1</td>\n",
       "      <td>5877.487218</td>\n",
       "    </tr>\n",
       "    <tr>\n",
       "      <th>Остаток</th>\n",
       "      <td>205.312782</td>\n",
       "      <td>18</td>\n",
       "      <td>11.406266</td>\n",
       "    </tr>\n",
       "    <tr>\n",
       "      <th>Общая вариация</th>\n",
       "      <td>6082.800000</td>\n",
       "      <td>19</td>\n",
       "      <td>320.147368</td>\n",
       "    </tr>\n",
       "  </tbody>\n",
       "</table>\n",
       "</div>"
      ],
      "text/plain": [
       "                Сумма квадратов  Степени свободы  Средний квадрат\n",
       "Регрессия           5877.487218                1      5877.487218\n",
       "Остаток              205.312782               18        11.406266\n",
       "Общая вариация      6082.800000               19       320.147368"
      ]
     },
     "execution_count": 66,
     "metadata": {},
     "output_type": "execute_result"
    }
   ],
   "source": [
    "# сумма квадратов регрессии и средний квадрат регрессии\n",
    "regression = np.sum((f(data.X.values)-y_mean)**2)\n",
    "regression_mean = 1/1 * regression\n",
    "\n",
    "# сумма квадратов остатка и средний квадрат остатка\n",
    "rest = np.sum((f(data.X.values)-data.Y.values)**2)\n",
    "rest_mean = rest / (len(data.Y.values)-2)\n",
    "\n",
    "# сумма квадратов общей вариации и средний квадрат общей вариации\n",
    "variance = np.sum((data.Y.values - y_mean)**2)\n",
    "variance_mean = variance / (len(data.Y.values)-1)\n",
    "\n",
    "table = pd.DataFrame({'Сумма квадратов': [regression, rest, variance],\n",
    "                     'Степени свободы':  [1, len(data.Y.values)-2, len(data.Y.values)-1],\n",
    "                     'Средний квадрат':  [regression_mean, rest_mean, variance_mean]},\n",
    "                    index=['Регрессия', 'Остаток', 'Общая вариация'])\n",
    "table"
   ]
  },
  {
   "cell_type": "markdown",
   "id": "eb89cec2",
   "metadata": {},
   "source": [
    "### Нахождение 95% доверительных интервалов для углового коэффициента и свободного члена регрессии\n",
    "Поскольку коэффициенты регрессии (**a** и **b**, которые мы нашли ранее) найдены с помощью статистик, то и сами они являются статистиками. Поэтому для них можно найти доверительный интервал - интервал, который с заданной точностью (0.95) покрывает оцениваемые параметры (в данном случае оцениваемые параметры - это сами коэффициенты a и b)"
   ]
  },
  {
   "cell_type": "code",
   "execution_count": 75,
   "id": "9b6a7561",
   "metadata": {},
   "outputs": [
    {
     "name": "stdout",
     "output_type": "stream",
     "text": [
      "95% доверительный интервал для углового коэффициента:\n",
      "[2.746, 3.2]\n",
      "\n",
      "95% доверительный интервал для свободного члена:\n",
      "[6.664, 12.105]\n"
     ]
    }
   ],
   "source": [
    "from scipy.stats import t\n",
    "Disp_for_a = rest_mean / np.sum((data.X.values-x_mean)**2)\n",
    "Disp_for_b = np.sum(data.X.values**2) * rest_mean / (len(data.X.values) * np.sum((data.X.values-x_mean)**2))\n",
    "t_for_095 = t.isf(q=0.05, df=len(data.Y.values)-2)\n",
    "\n",
    "print('95% доверительный интервал для углового коэффициента:')\n",
    "print(f'[{round(float(a-t_for_095*np.sqrt(Disp_for_a)),3)}, {round(float(a+t_for_095*np.sqrt(Disp_for_a)),3)}]')\n",
    "\n",
    "print()\n",
    "\n",
    "print('95% доверительный интервал для свободного члена:')\n",
    "print(f'[{round(float(b-t_for_095*np.sqrt(Disp_for_b)),3)}, {round(float(b+t_for_095*np.sqrt(Disp_for_b)),3)}]')"
   ]
  }
 ],
 "metadata": {
  "kernelspec": {
   "display_name": "Python 3",
   "language": "python",
   "name": "python3"
  },
  "language_info": {
   "codemirror_mode": {
    "name": "ipython",
    "version": 3
   },
   "file_extension": ".py",
   "mimetype": "text/x-python",
   "name": "python",
   "nbconvert_exporter": "python",
   "pygments_lexer": "ipython3",
   "version": "3.8.8"
  },
  "toc": {
   "base_numbering": 1,
   "nav_menu": {},
   "number_sections": true,
   "sideBar": true,
   "skip_h1_title": false,
   "title_cell": "Table of Contents",
   "title_sidebar": "Contents",
   "toc_cell": false,
   "toc_position": {},
   "toc_section_display": true,
   "toc_window_display": false
  }
 },
 "nbformat": 4,
 "nbformat_minor": 5
}
